{
 "cells": [
  {
   "cell_type": "code",
   "execution_count": 2,
   "id": "528b66d8",
   "metadata": {},
   "outputs": [
    {
     "name": "stdout",
     "output_type": "stream",
     "text": [
      "Presupuesto generado exitosamente\n"
     ]
    }
   ],
   "source": [
    "from fpdf import FPDF \n",
    "proyecto = input (\"Ingrese la descripción del proyecto\")\n",
    "horas_estimadas = input (\"Ingrese el total de horas\")\n",
    "valor_hora = input (\"Introduzca el valor de la hora trabajada\")\n",
    "termino = input (\"Introduzca el tiempo estimado de finalización\")\n",
    "\n",
    "valor_total = int (horas_estimadas) * int (valor_hora)\n",
    "\n",
    "pdf = FPDF()\n",
    "pdf.add_page()\n",
    "pdf.set_font(\"Arial\")\n",
    "\n",
    "pdf.image(\"Template.jpg\", x=0, y=0)\n",
    "\n",
    "pdf.text(115, 145, proyecto)\n",
    "pdf.text(115, 160, horas_estimadas)\n",
    "pdf.text(115,175, termino)\n",
    "pdf.text(115, 190, str(valor_hora))\n",
    "\n",
    "pdf.output(\"Presupuestos.pdf\")\n",
    "print(\"Presupuesto generado exitosamente\")"
   ]
  }
 ],
 "metadata": {
  "kernelspec": {
   "display_name": "Python 3",
   "language": "python",
   "name": "python3"
  },
  "language_info": {
   "codemirror_mode": {
    "name": "ipython",
    "version": 3
   },
   "file_extension": ".py",
   "mimetype": "text/x-python",
   "name": "python",
   "nbconvert_exporter": "python",
   "pygments_lexer": "ipython3",
   "version": "3.13.5"
  }
 },
 "nbformat": 4,
 "nbformat_minor": 5
}
